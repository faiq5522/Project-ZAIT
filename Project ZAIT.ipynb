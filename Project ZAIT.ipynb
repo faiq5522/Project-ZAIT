{
 "cells": [
  {
   "cell_type": "code",
   "execution_count": null,
   "id": "12e4cec5-e051-43b6-91bb-447023ee5242",
   "metadata": {},
   "outputs": [
    {
     "name": "stdout",
     "output_type": "stream",
     "text": [
      "\n",
      "Banking System Menu:\n",
      "1. Create an Account\n",
      "2. Deposit Money\n",
      "3. Withdraw Money\n",
      "4. Check Balance\n",
      "5. Transaction Statement\n"
     ]
    },
    {
     "name": "stdin",
     "output_type": "stream",
     "text": [
      "Please Select an option:  1\n",
      "Enter your name Here:  f\n"
     ]
    },
    {
     "name": "stdout",
     "output_type": "stream",
     "text": [
      "Account for f created with balance $0.00.\n",
      "\n",
      "Banking System Menu:\n",
      "1. Create an Account\n",
      "2. Deposit Money\n",
      "3. Withdraw Money\n",
      "4. Check Balance\n",
      "5. Transaction Statement\n"
     ]
    },
    {
     "name": "stdin",
     "output_type": "stream",
     "text": [
      "Please Select an option:  2\n",
      "How much amount you want to deposit:  44\n"
     ]
    },
    {
     "name": "stdout",
     "output_type": "stream",
     "text": [
      "Deposited $44.00. New balance: $44.00.\n",
      "\n",
      "Banking System Menu:\n",
      "1. Create an Account\n",
      "2. Deposit Money\n",
      "3. Withdraw Money\n",
      "4. Check Balance\n",
      "5. Transaction Statement\n"
     ]
    },
    {
     "name": "stdin",
     "output_type": "stream",
     "text": [
      "Please Select an option:  3\n",
      "How much amount you want to withdraw:  6\n"
     ]
    },
    {
     "name": "stdout",
     "output_type": "stream",
     "text": [
      "Withdrew $6.00. New balance: $38.00.\n",
      "\n",
      "Banking System Menu:\n",
      "1. Create an Account\n",
      "2. Deposit Money\n",
      "3. Withdraw Money\n",
      "4. Check Balance\n",
      "5. Transaction Statement\n"
     ]
    },
    {
     "name": "stdin",
     "output_type": "stream",
     "text": [
      "Please Select an option:  4\n"
     ]
    },
    {
     "name": "stdout",
     "output_type": "stream",
     "text": [
      "Current balance: $38.00.\n",
      "\n",
      "Banking System Menu:\n",
      "1. Create an Account\n",
      "2. Deposit Money\n",
      "3. Withdraw Money\n",
      "4. Check Balance\n",
      "5. Transaction Statement\n"
     ]
    },
    {
     "name": "stdin",
     "output_type": "stream",
     "text": [
      "Please Select an option:  3\n",
      "How much amount you want to withdraw:  5\n"
     ]
    },
    {
     "name": "stdout",
     "output_type": "stream",
     "text": [
      "Withdrew $5.00. New balance: $33.00.\n",
      "\n",
      "Banking System Menu:\n",
      "1. Create an Account\n",
      "2. Deposit Money\n",
      "3. Withdraw Money\n",
      "4. Check Balance\n",
      "5. Transaction Statement\n"
     ]
    },
    {
     "name": "stdin",
     "output_type": "stream",
     "text": [
      "Please Select an option:  4\n"
     ]
    },
    {
     "name": "stdout",
     "output_type": "stream",
     "text": [
      "Current balance: $33.00.\n",
      "\n",
      "Banking System Menu:\n",
      "1. Create an Account\n",
      "2. Deposit Money\n",
      "3. Withdraw Money\n",
      "4. Check Balance\n",
      "5. Transaction Statement\n"
     ]
    },
    {
     "name": "stdin",
     "output_type": "stream",
     "text": [
      "Please Select an option:  5\n"
     ]
    },
    {
     "name": "stdout",
     "output_type": "stream",
     "text": [
      "Account statement for f:\n",
      "\n",
      "- Deposit: $44.00\n",
      "- Withdrawal: $6.00\n",
      "- Withdrawal: $5.00\n",
      "Final Balance: $33.00\n",
      "\n",
      "Banking System Menu:\n",
      "1. Create an Account\n",
      "2. Deposit Money\n",
      "3. Withdraw Money\n",
      "4. Check Balance\n",
      "5. Transaction Statement\n"
     ]
    },
    {
     "name": "stdin",
     "output_type": "stream",
     "text": [
      "Please Select an option:  6\n"
     ]
    },
    {
     "name": "stdout",
     "output_type": "stream",
     "text": [
      "\n",
      "Banking System Menu:\n",
      "1. Create an Account\n",
      "2. Deposit Money\n",
      "3. Withdraw Money\n",
      "4. Check Balance\n",
      "5. Transaction Statement\n"
     ]
    },
    {
     "name": "stdin",
     "output_type": "stream",
     "text": [
      "Please Select an option:  5\n"
     ]
    },
    {
     "name": "stdout",
     "output_type": "stream",
     "text": [
      "Account statement for f:\n",
      "\n",
      "- Deposit: $44.00\n",
      "- Withdrawal: $6.00\n",
      "- Withdrawal: $5.00\n",
      "Final Balance: $33.00\n",
      "\n",
      "Banking System Menu:\n",
      "1. Create an Account\n",
      "2. Deposit Money\n",
      "3. Withdraw Money\n",
      "4. Check Balance\n",
      "5. Transaction Statement\n"
     ]
    }
   ],
   "source": [
    "import os\n",
    "\n",
    "def create_account(name, initial_balance=0.0):\n",
    "   \n",
    "    account = {\"name\": name,\"balance\": initial_balance,\"transactions\": []}\n",
    "    save_transactions(account)\n",
    "    print(f\"Account for {name} created with balance ${initial_balance:.2f}.\")\n",
    "    return account\n",
    "\n",
    "def deposit(account, amount):\n",
    "    \n",
    "    if amount <= 0:\n",
    "        print(\"Please Enter a Valid amount.\")\n",
    "        return account\n",
    "    \n",
    "    account[\"balance\"] += amount\n",
    "    account[\"transactions\"].append((\"Deposit\", amount))\n",
    "    save_transactions(account)\n",
    "    print(f\"Deposited ${amount:.2f}. New balance: ${account['balance']:.2f}.\")\n",
    "    return account\n",
    "\n",
    "def withdraw(account, amount):\n",
    "   \n",
    "    if amount <= 0:\n",
    "        print(\"Please Enter a Valid amount.\")\n",
    "        return account\n",
    "\n",
    "    if amount > account[\"balance\"]:\n",
    "        print(\"Insufficient balance. Transaction declined.\")\n",
    "        return account\n",
    "\n",
    "    account[\"balance\"] -= amount\n",
    "    account[\"transactions\"].append((\"Withdrawal\", amount))\n",
    "    save_transactions(account)\n",
    "    print(f\"Withdrew ${amount:.2f}. New balance: ${account['balance']:.2f}.\")\n",
    "    return account\n",
    "\n",
    "def check_balance(account):\n",
    "   \n",
    "    print(f\"Current balance: ${account['balance']:.2f}.\")\n",
    "    return account[\"balance\"]\n",
    "\n",
    "def print_statement(account):\n",
    "   \n",
    "    print(f\"Account statement for {account['name']}:\\n\")\n",
    "    if not account[\"transactions\"]:\n",
    "        print(\"No transactions available.\")\n",
    "    else:\n",
    "        for txn_type, amount in account[\"transactions\"]:\n",
    "            print(f\"- {txn_type}: ${amount:.2f}\")\n",
    "    print(f\"Final Balance: ${account['balance']:.2f}\")\n",
    "\n",
    "def save_transactions(account):\n",
    "   \n",
    "    filename = f\"{account['name'].replace(' ', '_').lower()}_transactions.txt\"\n",
    "    with open(filename, \"w\") as file:\n",
    "        file.write(f\"Account Holder: {account['name']}\\n\")\n",
    "        file.write(f\"Balance: ${account['balance']:.2f}\\n\")\n",
    "        file.write(\"Transactions:\\n\")\n",
    "        for txn_type, amount in account[\"transactions\"]:\n",
    "            file.write(f\"- {txn_type}: ${amount:.2f}\\n\")\n",
    "\n",
    "def load_transactions(name):\n",
    "   \n",
    "    filename = f\"{name.replace(' ', '_').lower()}_transactions.txt\"\n",
    "    if not os.path.exists(filename):\n",
    "        print(\"Account not Availaible.\")\n",
    "        return create_account(name)\n",
    "\n",
    "    with open(filename, \"r\") as file:\n",
    "        lines = file.readlines()\n",
    "        balance = float(lines[1].split(\": $\")[1].strip())\n",
    "        transactions = []\n",
    "        for line in lines[3:]:\n",
    "            txn_type, amount = line.strip(\"- \").split(\": $\")\n",
    "            transactions.append((txn_type, float(amount)))\n",
    "\n",
    "    account = {\n",
    "        \"name\": name,\n",
    "        \"balance\": balance,\n",
    "        \"transactions\": transactions\n",
    "    }\n",
    "    print(f\"Loaded account for {name} with balance ${balance:.2f}.\")\n",
    "    return account\n",
    "\n",
    "def main():\n",
    "    \n",
    "    account = None\n",
    "    while True:\n",
    "        print(\"\\nBanking System Menu:\")\n",
    "        print(\"1. Create an Account\")\n",
    "        print(\"2. Deposit Money\")\n",
    "        print(\"3. Withdraw Money\")\n",
    "        print(\"4. Check Balance\")\n",
    "        print(\"5. Transaction Statement\")\n",
    "        choice = input(\"Please Select an option: \")\n",
    "\n",
    "        if choice == \"1\":\n",
    "            name = input(\"Enter your name Here: \")\n",
    "            initial_balance = 0\n",
    "            account = create_account(name, initial_balance)\n",
    "\n",
    "        elif choice == \"2\":\n",
    "            if account:\n",
    "                amount = float(input(\"How much amount you want to deposit: \"))\n",
    "                account = deposit(account, amount)\n",
    "            else:\n",
    "                print(\"Please create an account by selecting option 1.\")\n",
    "\n",
    "        elif choice == \"3\":\n",
    "            if account:\n",
    "                amount = float(input(\"How much amount you want to withdraw: \"))\n",
    "                account = withdraw(account, amount)\n",
    "            else:\n",
    "                print(\"Please create an account by selecting option 1.\")\n",
    "\n",
    "        elif choice == \"4\":\n",
    "            if account:\n",
    "                check_balance(account)\n",
    "            else:\n",
    "                print(\"Please create an account by selecting option 1.\")\n",
    "\n",
    "        elif choice == \"5\":\n",
    "            if account:\n",
    "                print_statement(account)\n",
    "            else:\n",
    "                print(\"Please create an account by selecting option 1.\")\n",
    "\n",
    "        \n",
    "\n",
    "if __name__ == \"__main__\":\n",
    "    main()"
   ]
  },
  {
   "cell_type": "code",
   "execution_count": null,
   "id": "55e58e74-f417-46ef-8aef-6c7633900f76",
   "metadata": {},
   "outputs": [],
   "source": []
  }
 ],
 "metadata": {
  "kernelspec": {
   "display_name": "Python 3 (ipykernel)",
   "language": "python",
   "name": "python3"
  },
  "language_info": {
   "codemirror_mode": {
    "name": "ipython",
    "version": 3
   },
   "file_extension": ".py",
   "mimetype": "text/x-python",
   "name": "python",
   "nbconvert_exporter": "python",
   "pygments_lexer": "ipython3",
   "version": "3.12.7"
  }
 },
 "nbformat": 4,
 "nbformat_minor": 5
}
